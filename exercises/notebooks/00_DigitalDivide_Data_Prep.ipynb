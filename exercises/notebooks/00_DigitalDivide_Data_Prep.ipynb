{
 "cells": [
  {
   "cell_type": "markdown",
   "metadata": {},
   "source": [
    "# Project 1: Digital Divide\n",
    "### Data Prep\n",
    "\n",
    "#### Based on PPIC's Just the Facts report [\"California's Digital Divide\"](https://www.ppic.org/publication/californias-digital-divide/)"
   ]
  },
  {
   "cell_type": "markdown",
   "metadata": {},
   "source": [
    "## Research Question(s):\n",
    "1. What share households in X state have access to high-speed internet? \n",
    "2. Does this number vary across demographic groups? (in this case race/ethnicity)."
   ]
  },
  {
   "cell_type": "markdown",
   "metadata": {},
   "source": [
    "## Goal:\n",
    "* explore datafiles (`acsdata.data.gz`) and create a _working dataset_ from it."
   ]
  },
  {
   "cell_type": "markdown",
   "metadata": {},
   "source": [
    "## Context:\n",
    "Obtained American Community Survey (ACS) survey data from [IPUMS](https://usa.ipums.org/usa/). <br>\n",
    "It contains basic demographics:\n",
    "  - age\n",
    "  - gender\n",
    "  - race/ethnicity\n",
    "\n",
    "and geographic indicators:\n",
    "  - state\n",
    "  - county"
   ]
  },
  {
   "cell_type": "markdown",
   "metadata": {},
   "source": [
    "***"
   ]
  },
  {
   "cell_type": "markdown",
   "metadata": {},
   "source": [
    "#### Step 1: Set up your working environment.\n",
    "\n",
    "Import all necessary libraries and create `Path`s to your data directories. This ensures reproducibility across file systems (windows uses `\\` instead of `/`)"
   ]
  },
  {
   "cell_type": "markdown",
   "metadata": {},
   "source": [
    "We need \n",
    "1. `pandas` to work with the data.\n",
    "2. `pathlib`, and more specifically its `Path` object, to work with paths. This will ensure our code works in both Windows (which uses `\\` in its file paths) and MacOS/Linux (which uses `/`).\n",
    "3. `datetime` - tip: There are version control systems for data but tagging your data files with the date is not a bad first step if you're getting started."
   ]
  },
  {
   "cell_type": "code",
   "execution_count": 4,
   "metadata": {},
   "outputs": [
    {
     "name": "stdout",
     "output_type": "stream",
     "text": [
      "2019-05-01\n"
     ]
    }
   ],
   "source": [
    "# setting up working environment\n",
    "import pandas as pd\n",
    "from pathlib import Path\n",
    "from datetime import datetime as dt\n",
    "today = dt.today().strftime(\"%Y-%m-%d\")\n",
    "\n",
    "print(today)"
   ]
  },
  {
   "cell_type": "code",
   "execution_count": 5,
   "metadata": {},
   "outputs": [],
   "source": [
    "# data folder and paths\n",
    "RAW_DATA_PATH = Path(\"../data/raw/\")\n",
    "INT_DATA_PATH = Path(\"../data/interim/\")\n",
    "PROC_DATA_PATH = Path(\"../data/processed/\")\n",
    "FIN_DATA_PATH = Path(\"../data/final/\")"
   ]
  },
  {
   "cell_type": "markdown",
   "metadata": {},
   "source": [
    "**NOTE:** I've included a `tools.py` script with the function `tree` which displays a directory's tree (obtained from [RealPython's tutorial on the `pathlib` module](https://realpython.com/python-pathlib/)).\n",
    "\n",
    "    from our tools script import tree so we can use it."
   ]
  },
  {
   "cell_type": "code",
   "execution_count": 7,
   "metadata": {},
   "outputs": [],
   "source": [
    "from tools import tree"
   ]
  },
  {
   "cell_type": "code",
   "execution_count": 8,
   "metadata": {},
   "outputs": [
    {
     "name": "stdout",
     "output_type": "stream",
     "text": [
      "+ ../data/raw\n",
      "    + acs_data.csv.gz\n",
      "    + acs_data.dta.gz\n"
     ]
    }
   ],
   "source": [
    "tree(RAW_DATA_PATH)"
   ]
  },
  {
   "cell_type": "markdown",
   "metadata": {},
   "source": [
    "***"
   ]
  },
  {
   "cell_type": "markdown",
   "metadata": {},
   "source": [
    "#### Step 2: Load and explore the data\n",
    "\n",
    "With `pandas` loading data is as easy as `.read_csv(PATH_TO_CSV_FILE)` and that works most of the time. `Pandas` `read_csv()` is so powerful it'll even read compressed files without any other parameter specification. Try the following:\n",
    "\n",
    "```python\n",
    "data = pd.read_csv(RAW_DATA_PATH / 'acs_data.csv.gz')\n",
    "data.head()\n",
    "```\n",
    "_*make sure you change_ `RAW_DATA_PATH` _to match whatever variable name you chose for it earlier._"
   ]
  },
  {
   "cell_type": "code",
   "execution_count": 9,
   "metadata": {},
   "outputs": [
    {
     "data": {
      "text/html": [
       "<div>\n",
       "<style scoped>\n",
       "    .dataframe tbody tr th:only-of-type {\n",
       "        vertical-align: middle;\n",
       "    }\n",
       "\n",
       "    .dataframe tbody tr th {\n",
       "        vertical-align: top;\n",
       "    }\n",
       "\n",
       "    .dataframe thead th {\n",
       "        text-align: right;\n",
       "    }\n",
       "</style>\n",
       "<table border=\"1\" class=\"dataframe\">\n",
       "  <thead>\n",
       "    <tr style=\"text-align: right;\">\n",
       "      <th></th>\n",
       "      <th>YEAR</th>\n",
       "      <th>SERIAL</th>\n",
       "      <th>HHWT</th>\n",
       "      <th>STATEFIP</th>\n",
       "      <th>COUNTYFIP</th>\n",
       "      <th>GQ</th>\n",
       "      <th>CINETHH</th>\n",
       "      <th>CIHISPEED</th>\n",
       "      <th>PERNUM</th>\n",
       "      <th>PERWT</th>\n",
       "      <th>RELATE</th>\n",
       "      <th>RELATED</th>\n",
       "      <th>SEX</th>\n",
       "      <th>AGE</th>\n",
       "      <th>RACE</th>\n",
       "      <th>RACED</th>\n",
       "      <th>HISPAN</th>\n",
       "      <th>HISPAND</th>\n",
       "    </tr>\n",
       "  </thead>\n",
       "  <tbody>\n",
       "    <tr>\n",
       "      <th>0</th>\n",
       "      <td>2017</td>\n",
       "      <td>1</td>\n",
       "      <td>206</td>\n",
       "      <td>1</td>\n",
       "      <td>0</td>\n",
       "      <td>1</td>\n",
       "      <td>3</td>\n",
       "      <td>0</td>\n",
       "      <td>1</td>\n",
       "      <td>206</td>\n",
       "      <td>1</td>\n",
       "      <td>101</td>\n",
       "      <td>1</td>\n",
       "      <td>73</td>\n",
       "      <td>2</td>\n",
       "      <td>200</td>\n",
       "      <td>0</td>\n",
       "      <td>0</td>\n",
       "    </tr>\n",
       "    <tr>\n",
       "      <th>1</th>\n",
       "      <td>2017</td>\n",
       "      <td>2</td>\n",
       "      <td>45</td>\n",
       "      <td>1</td>\n",
       "      <td>0</td>\n",
       "      <td>1</td>\n",
       "      <td>1</td>\n",
       "      <td>20</td>\n",
       "      <td>1</td>\n",
       "      <td>45</td>\n",
       "      <td>1</td>\n",
       "      <td>101</td>\n",
       "      <td>2</td>\n",
       "      <td>31</td>\n",
       "      <td>1</td>\n",
       "      <td>100</td>\n",
       "      <td>0</td>\n",
       "      <td>0</td>\n",
       "    </tr>\n",
       "    <tr>\n",
       "      <th>2</th>\n",
       "      <td>2017</td>\n",
       "      <td>3</td>\n",
       "      <td>136</td>\n",
       "      <td>1</td>\n",
       "      <td>0</td>\n",
       "      <td>1</td>\n",
       "      <td>1</td>\n",
       "      <td>20</td>\n",
       "      <td>1</td>\n",
       "      <td>136</td>\n",
       "      <td>1</td>\n",
       "      <td>101</td>\n",
       "      <td>1</td>\n",
       "      <td>41</td>\n",
       "      <td>1</td>\n",
       "      <td>100</td>\n",
       "      <td>1</td>\n",
       "      <td>100</td>\n",
       "    </tr>\n",
       "    <tr>\n",
       "      <th>3</th>\n",
       "      <td>2017</td>\n",
       "      <td>3</td>\n",
       "      <td>136</td>\n",
       "      <td>1</td>\n",
       "      <td>0</td>\n",
       "      <td>1</td>\n",
       "      <td>1</td>\n",
       "      <td>20</td>\n",
       "      <td>2</td>\n",
       "      <td>121</td>\n",
       "      <td>2</td>\n",
       "      <td>201</td>\n",
       "      <td>2</td>\n",
       "      <td>48</td>\n",
       "      <td>1</td>\n",
       "      <td>100</td>\n",
       "      <td>0</td>\n",
       "      <td>0</td>\n",
       "    </tr>\n",
       "    <tr>\n",
       "      <th>4</th>\n",
       "      <td>2017</td>\n",
       "      <td>3</td>\n",
       "      <td>136</td>\n",
       "      <td>1</td>\n",
       "      <td>0</td>\n",
       "      <td>1</td>\n",
       "      <td>1</td>\n",
       "      <td>20</td>\n",
       "      <td>3</td>\n",
       "      <td>111</td>\n",
       "      <td>3</td>\n",
       "      <td>301</td>\n",
       "      <td>1</td>\n",
       "      <td>16</td>\n",
       "      <td>1</td>\n",
       "      <td>100</td>\n",
       "      <td>1</td>\n",
       "      <td>100</td>\n",
       "    </tr>\n",
       "  </tbody>\n",
       "</table>\n",
       "</div>"
      ],
      "text/plain": [
       "   YEAR  SERIAL  HHWT  STATEFIP  COUNTYFIP  GQ  CINETHH  CIHISPEED  PERNUM  \\\n",
       "0  2017       1   206         1          0   1        3          0       1   \n",
       "1  2017       2    45         1          0   1        1         20       1   \n",
       "2  2017       3   136         1          0   1        1         20       1   \n",
       "3  2017       3   136         1          0   1        1         20       2   \n",
       "4  2017       3   136         1          0   1        1         20       3   \n",
       "\n",
       "   PERWT  RELATE  RELATED  SEX  AGE  RACE  RACED  HISPAN  HISPAND  \n",
       "0    206       1      101    1   73     2    200       0        0  \n",
       "1     45       1      101    2   31     1    100       0        0  \n",
       "2    136       1      101    1   41     1    100       1      100  \n",
       "3    121       2      201    2   48     1    100       0        0  \n",
       "4    111       3      301    1   16     1    100       1      100  "
      ]
     },
     "execution_count": 9,
     "metadata": {},
     "output_type": "execute_result"
    }
   ],
   "source": [
    "data = pd.read_csv(RAW_DATA_PATH / 'acs_data.csv.gz')\n",
    "data.head()"
   ]
  },
  {
   "cell_type": "markdown",
   "metadata": {},
   "source": [
    "***\n",
    "However, IPUMS offers a few data formats which can be more useful [[docs]](https://usa.ipums.org/usa-action/faq#ques12):\n",
    "> In addition to the ASCII data file, the system creates a statistical package syntax file to accompany each extract. The syntax file is designed to read in the ASCII data while applying appropriate variable and value labels. SPSS, SAS, and Stata are supported. You must download the syntax file with the extract or you will be unable to read the data. The syntax file requires minor editing to identify the location of the data file on your local computer."
   ]
  },
  {
   "cell_type": "markdown",
   "metadata": {},
   "source": [
    "In this case, we'll be using a **Stata** file (`.dta`). The main reason is that `.dta` files can store *value labels* which `pandas` can then read and convert columns to `Categorical` columns in our pandas DataFrame. This 1) saves memory, and 2) is good practice because certain social sciences really, _really_, ***really*** love Stata so their interesting datasets are likely `.dta` files. "
   ]
  },
  {
   "cell_type": "markdown",
   "metadata": {},
   "source": [
    "However, `pandas` cannot read compressed `.dta` directly like it can `.csv` files. IPUMS, uses *gzip* compressed format and `python` includes a `gzip` module in its standard library.\n",
    "\n",
    "**Import** gzip and try the following:\n",
    "```python\n",
    "with gzip.open(RAW_DATA_PATH / 'acs_data.dta.gz') as file:\n",
    "    data = pd.read_stata(file)\n",
    "```\n",
    "\n",
    "and then display the first five rows of your `data` DataFrame."
   ]
  },
  {
   "cell_type": "code",
   "execution_count": 11,
   "metadata": {},
   "outputs": [],
   "source": [
    "# load data\n",
    "import gzip\n",
    "with gzip.open(RAW_DATA_PATH / 'acs_data.dta.gz') as file:\n",
    "    data = pd.read_stata(file)"
   ]
  },
  {
   "cell_type": "code",
   "execution_count": 12,
   "metadata": {},
   "outputs": [
    {
     "data": {
      "text/html": [
       "<div>\n",
       "<style scoped>\n",
       "    .dataframe tbody tr th:only-of-type {\n",
       "        vertical-align: middle;\n",
       "    }\n",
       "\n",
       "    .dataframe tbody tr th {\n",
       "        vertical-align: top;\n",
       "    }\n",
       "\n",
       "    .dataframe thead th {\n",
       "        text-align: right;\n",
       "    }\n",
       "</style>\n",
       "<table border=\"1\" class=\"dataframe\">\n",
       "  <thead>\n",
       "    <tr style=\"text-align: right;\">\n",
       "      <th></th>\n",
       "      <th>year</th>\n",
       "      <th>serial</th>\n",
       "      <th>hhwt</th>\n",
       "      <th>statefip</th>\n",
       "      <th>countyfip</th>\n",
       "      <th>gq</th>\n",
       "      <th>cinethh</th>\n",
       "      <th>cihispeed</th>\n",
       "      <th>pernum</th>\n",
       "      <th>perwt</th>\n",
       "      <th>relate</th>\n",
       "      <th>related</th>\n",
       "      <th>sex</th>\n",
       "      <th>age</th>\n",
       "      <th>race</th>\n",
       "      <th>raced</th>\n",
       "      <th>hispan</th>\n",
       "      <th>hispand</th>\n",
       "    </tr>\n",
       "  </thead>\n",
       "  <tbody>\n",
       "    <tr>\n",
       "      <th>0</th>\n",
       "      <td>2017</td>\n",
       "      <td>1</td>\n",
       "      <td>206</td>\n",
       "      <td>alabama</td>\n",
       "      <td>0</td>\n",
       "      <td>households under 1970 definition</td>\n",
       "      <td>no internet access at this house, apartment, o...</td>\n",
       "      <td>n/a (gq)</td>\n",
       "      <td>1</td>\n",
       "      <td>206</td>\n",
       "      <td>head/householder</td>\n",
       "      <td>head/householder</td>\n",
       "      <td>male</td>\n",
       "      <td>73</td>\n",
       "      <td>black/african american/negro</td>\n",
       "      <td>black/african american/negro</td>\n",
       "      <td>not hispanic</td>\n",
       "      <td>not hispanic</td>\n",
       "    </tr>\n",
       "    <tr>\n",
       "      <th>1</th>\n",
       "      <td>2017</td>\n",
       "      <td>2</td>\n",
       "      <td>45</td>\n",
       "      <td>alabama</td>\n",
       "      <td>0</td>\n",
       "      <td>households under 1970 definition</td>\n",
       "      <td>yes, with a subscription to an internet service</td>\n",
       "      <td>no</td>\n",
       "      <td>1</td>\n",
       "      <td>45</td>\n",
       "      <td>head/householder</td>\n",
       "      <td>head/householder</td>\n",
       "      <td>female</td>\n",
       "      <td>31</td>\n",
       "      <td>white</td>\n",
       "      <td>white</td>\n",
       "      <td>not hispanic</td>\n",
       "      <td>not hispanic</td>\n",
       "    </tr>\n",
       "    <tr>\n",
       "      <th>2</th>\n",
       "      <td>2017</td>\n",
       "      <td>3</td>\n",
       "      <td>136</td>\n",
       "      <td>alabama</td>\n",
       "      <td>0</td>\n",
       "      <td>households under 1970 definition</td>\n",
       "      <td>yes, with a subscription to an internet service</td>\n",
       "      <td>no</td>\n",
       "      <td>1</td>\n",
       "      <td>136</td>\n",
       "      <td>head/householder</td>\n",
       "      <td>head/householder</td>\n",
       "      <td>male</td>\n",
       "      <td>41</td>\n",
       "      <td>white</td>\n",
       "      <td>white</td>\n",
       "      <td>mexican</td>\n",
       "      <td>mexican</td>\n",
       "    </tr>\n",
       "    <tr>\n",
       "      <th>3</th>\n",
       "      <td>2017</td>\n",
       "      <td>3</td>\n",
       "      <td>136</td>\n",
       "      <td>alabama</td>\n",
       "      <td>0</td>\n",
       "      <td>households under 1970 definition</td>\n",
       "      <td>yes, with a subscription to an internet service</td>\n",
       "      <td>no</td>\n",
       "      <td>2</td>\n",
       "      <td>121</td>\n",
       "      <td>spouse</td>\n",
       "      <td>spouse</td>\n",
       "      <td>female</td>\n",
       "      <td>48</td>\n",
       "      <td>white</td>\n",
       "      <td>white</td>\n",
       "      <td>not hispanic</td>\n",
       "      <td>not hispanic</td>\n",
       "    </tr>\n",
       "    <tr>\n",
       "      <th>4</th>\n",
       "      <td>2017</td>\n",
       "      <td>3</td>\n",
       "      <td>136</td>\n",
       "      <td>alabama</td>\n",
       "      <td>0</td>\n",
       "      <td>households under 1970 definition</td>\n",
       "      <td>yes, with a subscription to an internet service</td>\n",
       "      <td>no</td>\n",
       "      <td>3</td>\n",
       "      <td>111</td>\n",
       "      <td>child</td>\n",
       "      <td>child</td>\n",
       "      <td>male</td>\n",
       "      <td>16</td>\n",
       "      <td>white</td>\n",
       "      <td>white</td>\n",
       "      <td>mexican</td>\n",
       "      <td>mexican</td>\n",
       "    </tr>\n",
       "  </tbody>\n",
       "</table>\n",
       "</div>"
      ],
      "text/plain": [
       "   year  serial  hhwt statefip  countyfip                                gq  \\\n",
       "0  2017       1   206  alabama          0  households under 1970 definition   \n",
       "1  2017       2    45  alabama          0  households under 1970 definition   \n",
       "2  2017       3   136  alabama          0  households under 1970 definition   \n",
       "3  2017       3   136  alabama          0  households under 1970 definition   \n",
       "4  2017       3   136  alabama          0  households under 1970 definition   \n",
       "\n",
       "                                             cinethh cihispeed  pernum  perwt  \\\n",
       "0  no internet access at this house, apartment, o...  n/a (gq)       1    206   \n",
       "1    yes, with a subscription to an internet service        no       1     45   \n",
       "2    yes, with a subscription to an internet service        no       1    136   \n",
       "3    yes, with a subscription to an internet service        no       2    121   \n",
       "4    yes, with a subscription to an internet service        no       3    111   \n",
       "\n",
       "             relate           related     sex age  \\\n",
       "0  head/householder  head/householder    male  73   \n",
       "1  head/householder  head/householder  female  31   \n",
       "2  head/householder  head/householder    male  41   \n",
       "3            spouse            spouse  female  48   \n",
       "4             child             child    male  16   \n",
       "\n",
       "                           race                         raced        hispan  \\\n",
       "0  black/african american/negro  black/african american/negro  not hispanic   \n",
       "1                         white                         white  not hispanic   \n",
       "2                         white                         white       mexican   \n",
       "3                         white                         white  not hispanic   \n",
       "4                         white                         white       mexican   \n",
       "\n",
       "        hispand  \n",
       "0  not hispanic  \n",
       "1  not hispanic  \n",
       "2       mexican  \n",
       "3  not hispanic  \n",
       "4       mexican  "
      ]
     },
     "execution_count": 12,
     "metadata": {},
     "output_type": "execute_result"
    }
   ],
   "source": [
    "# display first 5 rows\n",
    "data.head()"
   ]
  },
  {
   "cell_type": "markdown",
   "metadata": {},
   "source": [
    "***"
   ]
  },
  {
   "cell_type": "markdown",
   "metadata": {},
   "source": [
    "#### Step 3: Familiarize yourself with the dataset\n",
    "\n",
    "We've already seen `.head()` - the `pandas` method that will display the first 5 rows of your DataFrame. This gives you an idea of what your data looks like. However, there are is a lot more `.info()` you can get out of your dataframe. You can also just ask the data to `.describe()` itself..."
   ]
  },
  {
   "cell_type": "code",
   "execution_count": 13,
   "metadata": {},
   "outputs": [
    {
     "name": "stdout",
     "output_type": "stream",
     "text": [
      "<class 'pandas.core.frame.DataFrame'>\n",
      "Int64Index: 3190040 entries, 0 to 3190039\n",
      "Data columns (total 18 columns):\n",
      "year         category\n",
      "serial       int32\n",
      "hhwt         int16\n",
      "statefip     category\n",
      "countyfip    int16\n",
      "gq           category\n",
      "cinethh      category\n",
      "cihispeed    category\n",
      "pernum       int8\n",
      "perwt        int16\n",
      "relate       category\n",
      "related      category\n",
      "sex          category\n",
      "age          category\n",
      "race         category\n",
      "raced        category\n",
      "hispan       category\n",
      "hispand      category\n",
      "dtypes: category(13), int16(3), int32(1), int8(1)\n",
      "memory usage: 100.4 MB\n"
     ]
    }
   ],
   "source": [
    "# find out more info about your dataframe\n",
    "data.info()"
   ]
  },
  {
   "cell_type": "code",
   "execution_count": 14,
   "metadata": {},
   "outputs": [
    {
     "data": {
      "text/html": [
       "<div>\n",
       "<style scoped>\n",
       "    .dataframe tbody tr th:only-of-type {\n",
       "        vertical-align: middle;\n",
       "    }\n",
       "\n",
       "    .dataframe tbody tr th {\n",
       "        vertical-align: top;\n",
       "    }\n",
       "\n",
       "    .dataframe thead th {\n",
       "        text-align: right;\n",
       "    }\n",
       "</style>\n",
       "<table border=\"1\" class=\"dataframe\">\n",
       "  <thead>\n",
       "    <tr style=\"text-align: right;\">\n",
       "      <th></th>\n",
       "      <th>serial</th>\n",
       "      <th>hhwt</th>\n",
       "      <th>countyfip</th>\n",
       "      <th>pernum</th>\n",
       "      <th>perwt</th>\n",
       "    </tr>\n",
       "  </thead>\n",
       "  <tbody>\n",
       "    <tr>\n",
       "      <th>count</th>\n",
       "      <td>3.190040e+06</td>\n",
       "      <td>3.190040e+06</td>\n",
       "      <td>3.190040e+06</td>\n",
       "      <td>3.190040e+06</td>\n",
       "      <td>3.190040e+06</td>\n",
       "    </tr>\n",
       "    <tr>\n",
       "      <th>mean</th>\n",
       "      <td>6.918400e+05</td>\n",
       "      <td>9.614892e+01</td>\n",
       "      <td>5.099185e+01</td>\n",
       "      <td>2.083905e+00</td>\n",
       "      <td>1.021050e+02</td>\n",
       "    </tr>\n",
       "    <tr>\n",
       "      <th>std</th>\n",
       "      <td>4.064117e+05</td>\n",
       "      <td>7.594648e+01</td>\n",
       "      <td>8.809394e+01</td>\n",
       "      <td>1.340533e+00</td>\n",
       "      <td>8.314945e+01</td>\n",
       "    </tr>\n",
       "    <tr>\n",
       "      <th>min</th>\n",
       "      <td>1.000000e+00</td>\n",
       "      <td>1.000000e+00</td>\n",
       "      <td>0.000000e+00</td>\n",
       "      <td>1.000000e+00</td>\n",
       "      <td>1.000000e+00</td>\n",
       "    </tr>\n",
       "    <tr>\n",
       "      <th>25%</th>\n",
       "      <td>3.350008e+05</td>\n",
       "      <td>5.100000e+01</td>\n",
       "      <td>0.000000e+00</td>\n",
       "      <td>1.000000e+00</td>\n",
       "      <td>5.300000e+01</td>\n",
       "    </tr>\n",
       "    <tr>\n",
       "      <th>50%</th>\n",
       "      <td>6.925320e+05</td>\n",
       "      <td>7.600000e+01</td>\n",
       "      <td>1.900000e+01</td>\n",
       "      <td>2.000000e+00</td>\n",
       "      <td>8.000000e+01</td>\n",
       "    </tr>\n",
       "    <tr>\n",
       "      <th>75%</th>\n",
       "      <td>1.047493e+06</td>\n",
       "      <td>1.170000e+02</td>\n",
       "      <td>7.300000e+01</td>\n",
       "      <td>3.000000e+00</td>\n",
       "      <td>1.240000e+02</td>\n",
       "    </tr>\n",
       "    <tr>\n",
       "      <th>max</th>\n",
       "      <td>1.394399e+06</td>\n",
       "      <td>2.401000e+03</td>\n",
       "      <td>8.100000e+02</td>\n",
       "      <td>2.000000e+01</td>\n",
       "      <td>2.401000e+03</td>\n",
       "    </tr>\n",
       "  </tbody>\n",
       "</table>\n",
       "</div>"
      ],
      "text/plain": [
       "             serial          hhwt     countyfip        pernum         perwt\n",
       "count  3.190040e+06  3.190040e+06  3.190040e+06  3.190040e+06  3.190040e+06\n",
       "mean   6.918400e+05  9.614892e+01  5.099185e+01  2.083905e+00  1.021050e+02\n",
       "std    4.064117e+05  7.594648e+01  8.809394e+01  1.340533e+00  8.314945e+01\n",
       "min    1.000000e+00  1.000000e+00  0.000000e+00  1.000000e+00  1.000000e+00\n",
       "25%    3.350008e+05  5.100000e+01  0.000000e+00  1.000000e+00  5.300000e+01\n",
       "50%    6.925320e+05  7.600000e+01  1.900000e+01  2.000000e+00  8.000000e+01\n",
       "75%    1.047493e+06  1.170000e+02  7.300000e+01  3.000000e+00  1.240000e+02\n",
       "max    1.394399e+06  2.401000e+03  8.100000e+02  2.000000e+01  2.401000e+03"
      ]
     },
     "execution_count": 14,
     "metadata": {},
     "output_type": "execute_result"
    }
   ],
   "source": [
    "# describing your data\n",
    "data.describe()"
   ]
  },
  {
   "cell_type": "markdown",
   "metadata": {},
   "source": [
    "Check out the `shape` of your data with it's `.shape` attribute. Notice the lack of parentheses."
   ]
  },
  {
   "cell_type": "code",
   "execution_count": 15,
   "metadata": {},
   "outputs": [
    {
     "data": {
      "text/plain": [
       "(3190040, 18)"
      ]
     },
     "execution_count": 15,
     "metadata": {},
     "output_type": "execute_result"
    }
   ],
   "source": [
    "data.shape"
   ]
  },
  {
   "cell_type": "markdown",
   "metadata": {},
   "source": [
    "***"
   ]
  },
  {
   "cell_type": "markdown",
   "metadata": {},
   "source": [
    "#### Step 4: Trim your data\n",
    "\n",
    "Right now you're working with your **masterfile** - a dataset containing everything you _could_ need for your analysis. You don't really want to modify this dataset because you might be using it for other analyses. For example, we're going to be analyzing access to high-speed internet in a state of your choosing but next week you might want to run the same analysis on another state or maybe just on a specific county. To make sure you can **reuse** your data and code later let's create an _analytical file_ or a _working dataset_, a dataset that contains only the data needed for **this** specific analysis at hand."
   ]
  },
  {
   "cell_type": "markdown",
   "metadata": {},
   "source": [
    "First, we are only interested in finding the _\"Digital Divide\"_ of one state right now. The **masterfile** contains data for all 50 states and the Disctric of Columbia. \n",
    "\n",
    "What you want to do is find all the rows where the `statefip` matches the your state's name. This is called boolean indexing.\n",
    "\n",
    "Try the following\n",
    "```python\n",
    "data['statefip'] == 'ohio'\n",
    "```\n",
    "_Note: you can change 'ohio' to any other of the 50 states or 'district of columbia' for DC._"
   ]
  },
  {
   "cell_type": "code",
   "execution_count": 16,
   "metadata": {},
   "outputs": [
    {
     "data": {
      "text/plain": [
       "0          False\n",
       "1          False\n",
       "2          False\n",
       "3          False\n",
       "4          False\n",
       "5          False\n",
       "6          False\n",
       "7          False\n",
       "8          False\n",
       "9          False\n",
       "10         False\n",
       "11         False\n",
       "12         False\n",
       "13         False\n",
       "14         False\n",
       "15         False\n",
       "16         False\n",
       "17         False\n",
       "18         False\n",
       "19         False\n",
       "20         False\n",
       "21         False\n",
       "22         False\n",
       "23         False\n",
       "24         False\n",
       "25         False\n",
       "26         False\n",
       "27         False\n",
       "28         False\n",
       "29         False\n",
       "           ...  \n",
       "3190010    False\n",
       "3190011    False\n",
       "3190012    False\n",
       "3190013    False\n",
       "3190014    False\n",
       "3190015    False\n",
       "3190016    False\n",
       "3190017    False\n",
       "3190018    False\n",
       "3190019    False\n",
       "3190020    False\n",
       "3190021    False\n",
       "3190022    False\n",
       "3190023    False\n",
       "3190024    False\n",
       "3190025    False\n",
       "3190026    False\n",
       "3190027    False\n",
       "3190028    False\n",
       "3190029    False\n",
       "3190030    False\n",
       "3190031    False\n",
       "3190032    False\n",
       "3190033    False\n",
       "3190034    False\n",
       "3190035    False\n",
       "3190036    False\n",
       "3190037    False\n",
       "3190038    False\n",
       "3190039    False\n",
       "Name: statefip, Length: 3190040, dtype: bool"
      ]
     },
     "execution_count": 16,
     "metadata": {},
     "output_type": "execute_result"
    }
   ],
   "source": [
    "# try boolean indexing\n",
    "data['statefip'] == 'georgia'"
   ]
  },
  {
   "cell_type": "markdown",
   "metadata": {},
   "source": [
    "This is going to return a `pandas.Series` of booleans (Trues and Falses) which then you can use to filter out any unnecessary rows.\n",
    "\n",
    "It's good practice to save these as a variable early in your code (if you know them beforehand) or right before you use them in case you use these conditionals in more than one place. This is going to save you time if you decide to change the value you're comparing, `'ohio'` for `'california'` for example.\n",
    "\n",
    "```python\n",
    "mask_state = (data['statefip'] == 'ohio')\n",
    "data[mask_state].head()\n",
    "```"
   ]
  },
  {
   "cell_type": "code",
   "execution_count": 17,
   "metadata": {},
   "outputs": [
    {
     "data": {
      "text/html": [
       "<div>\n",
       "<style scoped>\n",
       "    .dataframe tbody tr th:only-of-type {\n",
       "        vertical-align: middle;\n",
       "    }\n",
       "\n",
       "    .dataframe tbody tr th {\n",
       "        vertical-align: top;\n",
       "    }\n",
       "\n",
       "    .dataframe thead th {\n",
       "        text-align: right;\n",
       "    }\n",
       "</style>\n",
       "<table border=\"1\" class=\"dataframe\">\n",
       "  <thead>\n",
       "    <tr style=\"text-align: right;\">\n",
       "      <th></th>\n",
       "      <th>year</th>\n",
       "      <th>serial</th>\n",
       "      <th>hhwt</th>\n",
       "      <th>statefip</th>\n",
       "      <th>countyfip</th>\n",
       "      <th>gq</th>\n",
       "      <th>cinethh</th>\n",
       "      <th>cihispeed</th>\n",
       "      <th>pernum</th>\n",
       "      <th>perwt</th>\n",
       "      <th>relate</th>\n",
       "      <th>related</th>\n",
       "      <th>sex</th>\n",
       "      <th>age</th>\n",
       "      <th>race</th>\n",
       "      <th>raced</th>\n",
       "      <th>hispan</th>\n",
       "      <th>hispand</th>\n",
       "    </tr>\n",
       "  </thead>\n",
       "  <tbody>\n",
       "    <tr>\n",
       "      <th>837580</th>\n",
       "      <td>2017</td>\n",
       "      <td>356883</td>\n",
       "      <td>178</td>\n",
       "      <td>georgia</td>\n",
       "      <td>0</td>\n",
       "      <td>households under 1970 definition</td>\n",
       "      <td>yes, with a subscription to an internet service</td>\n",
       "      <td>no</td>\n",
       "      <td>1</td>\n",
       "      <td>178</td>\n",
       "      <td>head/householder</td>\n",
       "      <td>head/householder</td>\n",
       "      <td>female</td>\n",
       "      <td>37</td>\n",
       "      <td>white</td>\n",
       "      <td>white</td>\n",
       "      <td>not hispanic</td>\n",
       "      <td>not hispanic</td>\n",
       "    </tr>\n",
       "    <tr>\n",
       "      <th>837581</th>\n",
       "      <td>2017</td>\n",
       "      <td>356883</td>\n",
       "      <td>178</td>\n",
       "      <td>georgia</td>\n",
       "      <td>0</td>\n",
       "      <td>households under 1970 definition</td>\n",
       "      <td>yes, with a subscription to an internet service</td>\n",
       "      <td>no</td>\n",
       "      <td>2</td>\n",
       "      <td>210</td>\n",
       "      <td>spouse</td>\n",
       "      <td>spouse</td>\n",
       "      <td>male</td>\n",
       "      <td>47</td>\n",
       "      <td>white</td>\n",
       "      <td>white</td>\n",
       "      <td>not hispanic</td>\n",
       "      <td>not hispanic</td>\n",
       "    </tr>\n",
       "    <tr>\n",
       "      <th>837582</th>\n",
       "      <td>2017</td>\n",
       "      <td>356883</td>\n",
       "      <td>178</td>\n",
       "      <td>georgia</td>\n",
       "      <td>0</td>\n",
       "      <td>households under 1970 definition</td>\n",
       "      <td>yes, with a subscription to an internet service</td>\n",
       "      <td>no</td>\n",
       "      <td>3</td>\n",
       "      <td>153</td>\n",
       "      <td>child</td>\n",
       "      <td>child</td>\n",
       "      <td>male</td>\n",
       "      <td>14</td>\n",
       "      <td>white</td>\n",
       "      <td>white</td>\n",
       "      <td>not hispanic</td>\n",
       "      <td>not hispanic</td>\n",
       "    </tr>\n",
       "    <tr>\n",
       "      <th>837583</th>\n",
       "      <td>2017</td>\n",
       "      <td>356883</td>\n",
       "      <td>178</td>\n",
       "      <td>georgia</td>\n",
       "      <td>0</td>\n",
       "      <td>households under 1970 definition</td>\n",
       "      <td>yes, with a subscription to an internet service</td>\n",
       "      <td>no</td>\n",
       "      <td>4</td>\n",
       "      <td>157</td>\n",
       "      <td>child</td>\n",
       "      <td>child</td>\n",
       "      <td>female</td>\n",
       "      <td>8</td>\n",
       "      <td>white</td>\n",
       "      <td>white</td>\n",
       "      <td>not hispanic</td>\n",
       "      <td>not hispanic</td>\n",
       "    </tr>\n",
       "    <tr>\n",
       "      <th>837584</th>\n",
       "      <td>2017</td>\n",
       "      <td>356884</td>\n",
       "      <td>52</td>\n",
       "      <td>georgia</td>\n",
       "      <td>135</td>\n",
       "      <td>households under 1970 definition</td>\n",
       "      <td>yes, with a subscription to an internet service</td>\n",
       "      <td>yes (cable modem, fiber optic or dsl service)</td>\n",
       "      <td>1</td>\n",
       "      <td>52</td>\n",
       "      <td>head/householder</td>\n",
       "      <td>head/householder</td>\n",
       "      <td>female</td>\n",
       "      <td>41</td>\n",
       "      <td>black/african american/negro</td>\n",
       "      <td>black/african american/negro</td>\n",
       "      <td>not hispanic</td>\n",
       "      <td>not hispanic</td>\n",
       "    </tr>\n",
       "  </tbody>\n",
       "</table>\n",
       "</div>"
      ],
      "text/plain": [
       "        year  serial  hhwt statefip  countyfip  \\\n",
       "837580  2017  356883   178  georgia          0   \n",
       "837581  2017  356883   178  georgia          0   \n",
       "837582  2017  356883   178  georgia          0   \n",
       "837583  2017  356883   178  georgia          0   \n",
       "837584  2017  356884    52  georgia        135   \n",
       "\n",
       "                                      gq  \\\n",
       "837580  households under 1970 definition   \n",
       "837581  households under 1970 definition   \n",
       "837582  households under 1970 definition   \n",
       "837583  households under 1970 definition   \n",
       "837584  households under 1970 definition   \n",
       "\n",
       "                                                cinethh  \\\n",
       "837580  yes, with a subscription to an internet service   \n",
       "837581  yes, with a subscription to an internet service   \n",
       "837582  yes, with a subscription to an internet service   \n",
       "837583  yes, with a subscription to an internet service   \n",
       "837584  yes, with a subscription to an internet service   \n",
       "\n",
       "                                            cihispeed  pernum  perwt  \\\n",
       "837580                                             no       1    178   \n",
       "837581                                             no       2    210   \n",
       "837582                                             no       3    153   \n",
       "837583                                             no       4    157   \n",
       "837584  yes (cable modem, fiber optic or dsl service)       1     52   \n",
       "\n",
       "                  relate           related     sex age  \\\n",
       "837580  head/householder  head/householder  female  37   \n",
       "837581            spouse            spouse    male  47   \n",
       "837582             child             child    male  14   \n",
       "837583             child             child  female   8   \n",
       "837584  head/householder  head/householder  female  41   \n",
       "\n",
       "                                race                         raced  \\\n",
       "837580                         white                         white   \n",
       "837581                         white                         white   \n",
       "837582                         white                         white   \n",
       "837583                         white                         white   \n",
       "837584  black/african american/negro  black/african american/negro   \n",
       "\n",
       "              hispan       hispand  \n",
       "837580  not hispanic  not hispanic  \n",
       "837581  not hispanic  not hispanic  \n",
       "837582  not hispanic  not hispanic  \n",
       "837583  not hispanic  not hispanic  \n",
       "837584  not hispanic  not hispanic  "
      ]
     },
     "execution_count": 17,
     "metadata": {},
     "output_type": "execute_result"
    }
   ],
   "source": [
    "# try it yourself\n",
    "mask_state = (data['statefip'] == 'georgia')\n",
    "data[mask_state].head()"
   ]
  },
  {
   "cell_type": "markdown",
   "metadata": {},
   "source": [
    "let's save it to another variable with a more useful name:\n",
    "\n",
    "```python\n",
    "state_data = data[mask_state].copy()\n",
    "```"
   ]
  },
  {
   "cell_type": "markdown",
   "metadata": {},
   "source": [
    "You have to use `.copy()` to create actual copies of the data. If you ran\n",
    "```python\n",
    "state_data = data[mask_state]\n",
    "```\n",
    "`state_data` would be a _view_ of the `data` dataframe. This can have unintended consequences down the road if you modify your dataframes. A lot of the times you'd get just a warning and your code will run just as intented - but why take risks, right?"
   ]
  },
  {
   "cell_type": "code",
   "execution_count": 23,
   "metadata": {},
   "outputs": [],
   "source": [
    "# save your data to state_data\n",
    "state_data = data[mask_state].copy()"
   ]
  },
  {
   "cell_type": "markdown",
   "metadata": {},
   "source": [
    "Now, let's see what `.columns` we have in our dataframe. You can find these the same way you found the `.shape` of it earlier."
   ]
  },
  {
   "cell_type": "code",
   "execution_count": 24,
   "metadata": {},
   "outputs": [
    {
     "data": {
      "text/plain": [
       "Index(['year', 'serial', 'hhwt', 'statefip', 'countyfip', 'gq', 'cinethh',\n",
       "       'cihispeed', 'pernum', 'perwt', 'relate', 'related', 'sex', 'age',\n",
       "       'race', 'raced', 'hispan', 'hispand'],\n",
       "      dtype='object')"
      ]
     },
     "execution_count": 24,
     "metadata": {},
     "output_type": "execute_result"
    }
   ],
   "source": [
    "state_data.columns"
   ]
  },
  {
   "cell_type": "markdown",
   "metadata": {},
   "source": [
    "Are there any columns that you are **confident** you don't need? If you are not 90% sure you won't need a variable don't drop it. \n",
    "\n",
    "Dropping columns is as easy using `.drop()` on your dataframe.\n",
    "\n",
    "```python\n",
    "state_data.drop(columns = ['list', 'of', 'columns', 'to', 'drop'])\n",
    "```"
   ]
  },
  {
   "cell_type": "code",
   "execution_count": 25,
   "metadata": {},
   "outputs": [],
   "source": [
    "# will enter this a little later"
   ]
  },
  {
   "cell_type": "markdown",
   "metadata": {},
   "source": [
    "If there are variables you _think_ you won't need but you're not very sure that's the case, you should explore them. \n",
    "\n",
    "`pandas` dataframe's columns are `pandas.Series` and they have methods and attributes just like dataframes."
   ]
  },
  {
   "cell_type": "markdown",
   "metadata": {},
   "source": [
    "Let's explore the variable `gq` which stands for `Group Quarters`. From the IPUMS [docs](https://usa.ipums.org/usa-action/variables/GQ#description_section):\n",
    ">Group quarters are largely institutions and other group living arrangements, such as rooming houses and military barracks."
   ]
  },
  {
   "cell_type": "markdown",
   "metadata": {},
   "source": [
    "Let's see what `.unique()` values the `state_data['gq']` series has..."
   ]
  },
  {
   "cell_type": "code",
   "execution_count": 22,
   "metadata": {},
   "outputs": [
    {
     "data": {
      "text/plain": [
       "[households under 1970 definition, additional households under 1990 definition, additional households under 2000 definition, group quarters--institutions, other group quarters]\n",
       "Categories (5, object): [households under 1970 definition < additional households under 1990 definition < group quarters--institutions < other group quarters < additional households under 2000 definition]"
      ]
     },
     "execution_count": 22,
     "metadata": {},
     "output_type": "execute_result"
    }
   ],
   "source": [
    "state_data['gq'].unique()"
   ]
  },
  {
   "cell_type": "markdown",
   "metadata": {},
   "source": [
    "We can also see the `.value_counts()` which would give us a better idea of how useful this column might be. For example, if a column has 2 values but 99% of the observations have one value and 1% have the other - you could drop column altogether since it might not add a lot value to your analysis. \n",
    "\n",
    "Some variables have 100% of it's rows with the same value... \\*cough\\* \\*cough\\* `state_data['year']`..."
   ]
  },
  {
   "cell_type": "code",
   "execution_count": 26,
   "metadata": {},
   "outputs": [
    {
     "data": {
      "text/plain": [
       "households under 1970 definition               95198\n",
       "group quarters--institutions                    2597\n",
       "other group quarters                            1877\n",
       "additional households under 1990 definition      115\n",
       "additional households under 2000 definition       12\n",
       "Name: gq, dtype: int64"
      ]
     },
     "execution_count": 26,
     "metadata": {},
     "output_type": "execute_result"
    }
   ],
   "source": [
    "state_data['gq'].value_counts()"
   ]
  },
  {
   "cell_type": "markdown",
   "metadata": {},
   "source": [
    "From IPUMS [docs](https://usa.ipums.org/usa-action/variables/GQ#comparability_section):\n",
    ">There are three slightly different definitions of group quarters in the IPUMS. For the period 1940-1970 (excluding the 1940 100% dataset), group quarters are housing units with five or more individuals unrelated to the householder. Before 1940 and in 1980-1990, units with 10 or more individuals unrelated to the householder are considered group quarters. **In the 2000 census, 2010 census, the ACS and the PRCS, no threshold was applied; for a household to be considered group quarters, it had to be on a list of group quarters that is continuously maintained by the Census Bureau. In earlier years, a similar list was used, with the unrelated-persons rule imposed as a safeguard.**"
   ]
  },
  {
   "cell_type": "markdown",
   "metadata": {},
   "source": [
    "Because of this and the fact that most of our observations fall into the 1970 and 1990 definition, we'll stick to those 2 for our analysis."
   ]
  },
  {
   "cell_type": "markdown",
   "metadata": {},
   "source": [
    "Let's create another _mask_ to filter out households that don't fit our definition.\n",
    "\n",
    "For multiple conditions we use: `&` and `|` operators (**and** and **or**, respectively)"
   ]
  },
  {
   "cell_type": "code",
   "execution_count": 28,
   "metadata": {},
   "outputs": [],
   "source": [
    "mask_household = (state_data['gq'] == 'households under 1970 definition') | (state_data['gq'] == 'additional households under 1990 definition')"
   ]
  },
  {
   "cell_type": "markdown",
   "metadata": {},
   "source": [
    "**note**: another value added from having categorical variables is that, **if** they are ordered, you can use the `<`, `>` operators for conditions as well.\n",
    "```python\n",
    "mask_household = (state_data['gq'] <= 'additional households under 1990 definition')\n",
    "```"
   ]
  },
  {
   "cell_type": "code",
   "execution_count": 29,
   "metadata": {},
   "outputs": [],
   "source": [
    "state_data = state_data[mask_household].copy()"
   ]
  },
  {
   "cell_type": "markdown",
   "metadata": {},
   "source": [
    "At this point you're really close to a `working_data` dataset. You have:\n",
    "1. Kept one state's information and dropped the rest.\n",
    "2. Kept only those _households_ you're interested in and dropped the rest"
   ]
  },
  {
   "cell_type": "markdown",
   "metadata": {},
   "source": [
    "Our research question 1 is: \"What share of households in X state have access to high-speed internet?\"\n",
    "\n",
    "Mathematically, \n",
    "$$ \\frac{households\\ with\\ high\\ speed\\ internet}{households\\ in\\ state}$$\n",
    "\n",
    "Your `state_data` dataset contains all you need to find the answer. "
   ]
  },
  {
   "cell_type": "markdown",
   "metadata": {},
   "source": [
    "***"
   ]
  },
  {
   "cell_type": "markdown",
   "metadata": {},
   "source": [
    "#### Step 5: Save your data\n",
    "\n",
    "Now that you have trimmed your **masterfile** into a `working_data` dataset you should save it. \n",
    "\n",
    "We've been working with a `.dta` file and it'd be best if we keep it that way. \n",
    "\n",
    "Try the following:\n",
    "```python\n",
    "state_data.to_stata(INTERIM_DATA_PATH / f'state_data-{today}.dta', write_index = False)\n",
    "```"
   ]
  },
  {
   "cell_type": "markdown",
   "metadata": {},
   "source": [
    "A few things:\n",
    "1. We're using `f-strings` to tag our datafile with today's date.\n",
    "2. You're turning off the `write_index` flag so you don't add a 'index' column to your `.dta` file. In this dataset, our index isn't meaningful. In other analysis you might have a meaningful index and you won't want to turn off this flag."
   ]
  },
  {
   "cell_type": "code",
   "execution_count": 30,
   "metadata": {},
   "outputs": [],
   "source": [
    "state_data.to_stata(INT_DATA_PATH / f'state_data_{today}.dta', write_index=False)"
   ]
  },
  {
   "cell_type": "markdown",
   "metadata": {},
   "source": [
    "***"
   ]
  },
  {
   "cell_type": "markdown",
   "metadata": {},
   "source": [
    "#### Step 6: Extra credit ?\n",
    "What if we changed our research question a little bit, from <br>_\"What share of households in X state have access to high-speed internet?_ <br>to <br>_\"What share of households **with school-aged children** in X state have access to high-speed internet?\"_"
   ]
  },
  {
   "cell_type": "markdown",
   "metadata": {},
   "source": [
    "This would be an interesting statistic to policy-makers, especially if we find discrepancies across demographic groups (research question 2).\n",
    "\n",
    "The challenge here is that the **unit of observation** in our `state_data` file is a (weighted) person and we want to _filter_ out those **households** without any school-aged children in them. This might sound a little complicated at first but it just requires modifying our previous workflow just a little.\n",
    "\n",
    "We need to do a few things:\n",
    "1. Define what we mean by school-aged children.\n",
    "2. Create a _mask_ to grab all households where these children are.\n",
    "3. Create a list of unduplicated household identifiers ('serial') \n",
    "4. Use that list to drop unwanted observations."
   ]
  },
  {
   "cell_type": "markdown",
   "metadata": {},
   "source": [
    "#### Step 6.1: School-aged children\n",
    "\n",
    "Most people would agree school age (Elementary through High School) is 6 - 17 year olds. Some people are interested in K-12 (5 - 17 or 18). Some people wouldn't include 18 year olds. Whatever measure you choose you must be able to defend why you are choosing it. \n",
    "\n",
    "For this analysis, I'll suggest we use 5 - 18 year olds (K-12) but you can choose whatever age range you want. Maybe high-school kids 14-18? That'd be interesting, you probably need access to high-speed internet at home a lot more in high school than you do in kindergarden. "
   ]
  },
  {
   "cell_type": "code",
   "execution_count": 32,
   "metadata": {},
   "outputs": [],
   "source": [
    "mask_children = (state_data['age'] >= '5') & (state_data['age'] <= '18')"
   ]
  },
  {
   "cell_type": "markdown",
   "metadata": {},
   "source": [
    "Now that we have our _mask_, we can use it to create a list of households with children in them.\n",
    "\n",
    "Earlier we applied a mask to a dataframe and saved it to another variable. Here, we'll go a step further and grab just a column of that _filtered out_ dataframe.\n",
    "\n",
    "Try it yourself first.\n",
    "\n",
    "*Hint: How did we grab and explore a single column of a dataframe earlier?*"
   ]
  },
  {
   "cell_type": "code",
   "execution_count": 48,
   "metadata": {},
   "outputs": [],
   "source": [
    "households_with_children = state_data[mask_children]['serial'].copy()"
   ]
  },
  {
   "cell_type": "code",
   "execution_count": 49,
   "metadata": {},
   "outputs": [
    {
     "data": {
      "text/plain": [
       "837582    356883\n",
       "837583    356883\n",
       "837594    356887\n",
       "837612    356894\n",
       "837613    356894\n",
       "Name: serial, dtype: int32"
      ]
     },
     "execution_count": 49,
     "metadata": {},
     "output_type": "execute_result"
    }
   ],
   "source": [
    "households_with_children.head()"
   ]
  },
  {
   "cell_type": "markdown",
   "metadata": {},
   "source": [
    "How do you think we can `.drop_duplicates()`?"
   ]
  },
  {
   "cell_type": "code",
   "execution_count": 50,
   "metadata": {},
   "outputs": [],
   "source": [
    "households_with_children = households_with_children.drop_duplicates()"
   ]
  },
  {
   "cell_type": "markdown",
   "metadata": {},
   "source": [
    "Once you have your unduplicated list of households with children all you have to do is to check if a `serial` value from our `state_data` dataset `.isin()` our `households_with_children` series."
   ]
  },
  {
   "cell_type": "code",
   "execution_count": 52,
   "metadata": {},
   "outputs": [
    {
     "data": {
      "text/html": [
       "<div>\n",
       "<style scoped>\n",
       "    .dataframe tbody tr th:only-of-type {\n",
       "        vertical-align: middle;\n",
       "    }\n",
       "\n",
       "    .dataframe tbody tr th {\n",
       "        vertical-align: top;\n",
       "    }\n",
       "\n",
       "    .dataframe thead th {\n",
       "        text-align: right;\n",
       "    }\n",
       "</style>\n",
       "<table border=\"1\" class=\"dataframe\">\n",
       "  <thead>\n",
       "    <tr style=\"text-align: right;\">\n",
       "      <th></th>\n",
       "      <th>year</th>\n",
       "      <th>serial</th>\n",
       "      <th>hhwt</th>\n",
       "      <th>statefip</th>\n",
       "      <th>countyfip</th>\n",
       "      <th>gq</th>\n",
       "      <th>cinethh</th>\n",
       "      <th>cihispeed</th>\n",
       "      <th>pernum</th>\n",
       "      <th>perwt</th>\n",
       "      <th>relate</th>\n",
       "      <th>related</th>\n",
       "      <th>sex</th>\n",
       "      <th>age</th>\n",
       "      <th>race</th>\n",
       "      <th>raced</th>\n",
       "      <th>hispan</th>\n",
       "      <th>hispand</th>\n",
       "    </tr>\n",
       "  </thead>\n",
       "  <tbody>\n",
       "    <tr>\n",
       "      <th>837580</th>\n",
       "      <td>2017</td>\n",
       "      <td>356883</td>\n",
       "      <td>178</td>\n",
       "      <td>georgia</td>\n",
       "      <td>0</td>\n",
       "      <td>households under 1970 definition</td>\n",
       "      <td>yes, with a subscription to an internet service</td>\n",
       "      <td>no</td>\n",
       "      <td>1</td>\n",
       "      <td>178</td>\n",
       "      <td>head/householder</td>\n",
       "      <td>head/householder</td>\n",
       "      <td>female</td>\n",
       "      <td>37</td>\n",
       "      <td>white</td>\n",
       "      <td>white</td>\n",
       "      <td>not hispanic</td>\n",
       "      <td>not hispanic</td>\n",
       "    </tr>\n",
       "    <tr>\n",
       "      <th>837581</th>\n",
       "      <td>2017</td>\n",
       "      <td>356883</td>\n",
       "      <td>178</td>\n",
       "      <td>georgia</td>\n",
       "      <td>0</td>\n",
       "      <td>households under 1970 definition</td>\n",
       "      <td>yes, with a subscription to an internet service</td>\n",
       "      <td>no</td>\n",
       "      <td>2</td>\n",
       "      <td>210</td>\n",
       "      <td>spouse</td>\n",
       "      <td>spouse</td>\n",
       "      <td>male</td>\n",
       "      <td>47</td>\n",
       "      <td>white</td>\n",
       "      <td>white</td>\n",
       "      <td>not hispanic</td>\n",
       "      <td>not hispanic</td>\n",
       "    </tr>\n",
       "    <tr>\n",
       "      <th>837582</th>\n",
       "      <td>2017</td>\n",
       "      <td>356883</td>\n",
       "      <td>178</td>\n",
       "      <td>georgia</td>\n",
       "      <td>0</td>\n",
       "      <td>households under 1970 definition</td>\n",
       "      <td>yes, with a subscription to an internet service</td>\n",
       "      <td>no</td>\n",
       "      <td>3</td>\n",
       "      <td>153</td>\n",
       "      <td>child</td>\n",
       "      <td>child</td>\n",
       "      <td>male</td>\n",
       "      <td>14</td>\n",
       "      <td>white</td>\n",
       "      <td>white</td>\n",
       "      <td>not hispanic</td>\n",
       "      <td>not hispanic</td>\n",
       "    </tr>\n",
       "    <tr>\n",
       "      <th>837583</th>\n",
       "      <td>2017</td>\n",
       "      <td>356883</td>\n",
       "      <td>178</td>\n",
       "      <td>georgia</td>\n",
       "      <td>0</td>\n",
       "      <td>households under 1970 definition</td>\n",
       "      <td>yes, with a subscription to an internet service</td>\n",
       "      <td>no</td>\n",
       "      <td>4</td>\n",
       "      <td>157</td>\n",
       "      <td>child</td>\n",
       "      <td>child</td>\n",
       "      <td>female</td>\n",
       "      <td>8</td>\n",
       "      <td>white</td>\n",
       "      <td>white</td>\n",
       "      <td>not hispanic</td>\n",
       "      <td>not hispanic</td>\n",
       "    </tr>\n",
       "    <tr>\n",
       "      <th>837592</th>\n",
       "      <td>2017</td>\n",
       "      <td>356887</td>\n",
       "      <td>83</td>\n",
       "      <td>georgia</td>\n",
       "      <td>0</td>\n",
       "      <td>households under 1970 definition</td>\n",
       "      <td>yes, with a subscription to an internet service</td>\n",
       "      <td>yes (cable modem, fiber optic or dsl service)</td>\n",
       "      <td>1</td>\n",
       "      <td>83</td>\n",
       "      <td>head/householder</td>\n",
       "      <td>head/householder</td>\n",
       "      <td>male</td>\n",
       "      <td>49</td>\n",
       "      <td>white</td>\n",
       "      <td>white</td>\n",
       "      <td>not hispanic</td>\n",
       "      <td>not hispanic</td>\n",
       "    </tr>\n",
       "  </tbody>\n",
       "</table>\n",
       "</div>"
      ],
      "text/plain": [
       "        year  serial  hhwt statefip  countyfip  \\\n",
       "837580  2017  356883   178  georgia          0   \n",
       "837581  2017  356883   178  georgia          0   \n",
       "837582  2017  356883   178  georgia          0   \n",
       "837583  2017  356883   178  georgia          0   \n",
       "837592  2017  356887    83  georgia          0   \n",
       "\n",
       "                                      gq  \\\n",
       "837580  households under 1970 definition   \n",
       "837581  households under 1970 definition   \n",
       "837582  households under 1970 definition   \n",
       "837583  households under 1970 definition   \n",
       "837592  households under 1970 definition   \n",
       "\n",
       "                                                cinethh  \\\n",
       "837580  yes, with a subscription to an internet service   \n",
       "837581  yes, with a subscription to an internet service   \n",
       "837582  yes, with a subscription to an internet service   \n",
       "837583  yes, with a subscription to an internet service   \n",
       "837592  yes, with a subscription to an internet service   \n",
       "\n",
       "                                            cihispeed  pernum  perwt  \\\n",
       "837580                                             no       1    178   \n",
       "837581                                             no       2    210   \n",
       "837582                                             no       3    153   \n",
       "837583                                             no       4    157   \n",
       "837592  yes (cable modem, fiber optic or dsl service)       1     83   \n",
       "\n",
       "                  relate           related     sex age   race  raced  \\\n",
       "837580  head/householder  head/householder  female  37  white  white   \n",
       "837581            spouse            spouse    male  47  white  white   \n",
       "837582             child             child    male  14  white  white   \n",
       "837583             child             child  female   8  white  white   \n",
       "837592  head/householder  head/householder    male  49  white  white   \n",
       "\n",
       "              hispan       hispand  \n",
       "837580  not hispanic  not hispanic  \n",
       "837581  not hispanic  not hispanic  \n",
       "837582  not hispanic  not hispanic  \n",
       "837583  not hispanic  not hispanic  \n",
       "837592  not hispanic  not hispanic  "
      ]
     },
     "execution_count": 52,
     "metadata": {},
     "output_type": "execute_result"
    }
   ],
   "source": [
    "mask_house_w_child = state_data['serial'].isin(households_with_children)\n",
    "state_data[mask_house_w_child].head()"
   ]
  },
  {
   "cell_type": "markdown",
   "metadata": {},
   "source": [
    "Let's save that as our `working_data` dataset and save that to memory."
   ]
  },
  {
   "cell_type": "code",
   "execution_count": 53,
   "metadata": {},
   "outputs": [],
   "source": [
    "working_data = state_data[mask_house_w_child].copy()"
   ]
  },
  {
   "cell_type": "markdown",
   "metadata": {},
   "source": [
    "```python\n",
    "working_data.to_stata(INTERIM_DATA_PATH / f'working_data-{today}.dta', write_index = False)\n",
    "```"
   ]
  },
  {
   "cell_type": "code",
   "execution_count": 54,
   "metadata": {},
   "outputs": [],
   "source": [
    "working_data.to_stata(INT_DATA_PATH / f'working_data_2_{today}.dta', write_index=False)"
   ]
  },
  {
   "cell_type": "code",
   "execution_count": null,
   "metadata": {},
   "outputs": [],
   "source": []
  }
 ],
 "metadata": {
  "kernelspec": {
   "display_name": "Python 3",
   "language": "python",
   "name": "python3"
  },
  "language_info": {
   "codemirror_mode": {
    "name": "ipython",
    "version": 3
   },
   "file_extension": ".py",
   "mimetype": "text/x-python",
   "name": "python",
   "nbconvert_exporter": "python",
   "pygments_lexer": "ipython3",
   "version": "3.7.3"
  }
 },
 "nbformat": 4,
 "nbformat_minor": 2
}
